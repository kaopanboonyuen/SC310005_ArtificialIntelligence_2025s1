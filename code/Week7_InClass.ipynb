{
  "nbformat": 4,
  "nbformat_minor": 0,
  "metadata": {
    "colab": {
      "provenance": [],
      "toc_visible": true
    },
    "kernelspec": {
      "name": "python3",
      "display_name": "Python 3"
    },
    "language_info": {
      "name": "python"
    }
  },
  "cells": [
    {
      "cell_type": "markdown",
      "source": [
        "# 🚀 Artificial Intelligence - 2025 | Week 7\n",
        "*Unlock the Future with Intelligent Machines* 🤖✨\n",
        "\n",
        "- **Author:** Teerapong Panboonyuen (also known as Kao Panboonyuen)\n",
        "- **GitHub:** [kaopanboonyuen/SC310005_ArtificialIntelligence_2025s1](https://github.com/kaopanboonyuen/SC310005_ArtificialIntelligence_2025s1)"
      ],
      "metadata": {
        "id": "Gfu2lLMpniSE"
      }
    },
    {
      "cell_type": "markdown",
      "source": [
        "## **Poster Title**\n",
        "\n",
        "**Vision-Language Transformer for Fine-Grained Vehicle Damage Assessment**\n",
        "*Author1, Author2, Author3*\n",
        "Department of Computer Engineering, \\[University / Lab Logo]\n",
        "\n",
        "---\n",
        "\n",
        "### **Motivation**\n",
        "\n",
        "* Insurance claim processing is often **manual, slow, and inconsistent**.\n",
        "* Existing AI damage detection works well for **common cases**, but struggles with **ambiguous or rare patterns**.\n",
        "* Large Language Models (LLMs) can **interpret** visual features and **explain** reasoning to improve trust in AI systems.\n",
        "\n",
        "---\n",
        "\n",
        "### **Problem Statement**\n",
        "\n",
        "We aim to combine **Computer Vision** (for damage localization) with **LLM-based reasoning** (for textual claim generation) to:\n",
        "\n",
        "1. Improve **accuracy** on rare or complex damage patterns.\n",
        "2. Provide **human-readable justifications** for insurance evaluators.\n",
        "\n",
        "---\n",
        "\n",
        "### **Method**\n",
        "\n",
        "**Pipeline Overview:**\n",
        "\n",
        "1. **Image Encoder**: ResNet-50 + Vision Transformer backbone for feature extraction.\n",
        "2. **Damage Segmentation**: Mask2Former with multi-scale deformable attention.\n",
        "3. **Damage Description Generator**: LLM fine-tuned with LoRA on insurance claim corpus.\n",
        "4. **Multimodal Fusion**: Cross-attention between visual embeddings and textual embeddings.\n",
        "5. **Final Output**: Damage mask + textual explanation + claim severity score.\n",
        "\n",
        "*(Insert large central diagram showing image → feature extraction → segmentation → LLM reasoning → final report)*\n",
        "\n",
        "---\n",
        "\n",
        "### **Results**\n",
        "\n",
        "| Metric               | Baseline | Ours      | Δ (%) |\n",
        "| -------------------- | -------- | --------- | ----- |\n",
        "| mIoU (Segmentation)  | 84.1     | **88.7**  | +4.6  |\n",
        "| BLEU-4 (Text Gen)    | 23.4     | **29.9**  | +6.5  |\n",
        "| Human Trust Rating ↑ | 3.1/5    | **4.2/5** | +1.1  |\n",
        "\n",
        "**Qualitative Examples:**\n",
        "\n",
        "* Side-by-side damage masks with original image.\n",
        "* Example LLM-generated textual claim:\n",
        "  *\"Detected front bumper collision damage with estimated repair cost in moderate range. Possible involvement of another vehicle at \\~30 km/h impact.\"*\n",
        "\n",
        "---\n",
        "\n",
        "### **Conclusion & Future Work**\n",
        "\n",
        "* Vision-Language Transformer improves **accuracy and interpretability**.\n",
        "* Demonstrated practical utility in **insurance automation**.\n",
        "* Future: integrate **temporal accident video reasoning** + multilingual support.\n",
        "\n",
        "---\n",
        "\n",
        "### **References & Acknowledgments**\n",
        "\n",
        "* Cite relevant CVPR/NeurIPS/EMNLP works on vision-language models.\n",
        "* Funding from \\[Agency]\n",
        "* Dataset provided by \\[Industry Partner]\n",
        "\n",
        "---\n",
        "\n",
        "### **Design Notes for Students**\n",
        "\n",
        "* **Centerpiece:** One big pipeline diagram.\n",
        "* **Left Column:** Motivation & Problem Statement.\n",
        "* **Middle Column:** Method & Results (tables + images).\n",
        "* **Right Column:** Conclusion, References, QR Code (link to paper + GitHub).\n",
        "* Use **2–3 lab colors** and plenty of whitespace.\n",
        "* Include a **short catchy subtitle** under the title, e.g.\n",
        "  *\"Making AI Claims Smarter and More Trustworthy.\"*"
      ],
      "metadata": {
        "id": "F7uQJDYmvcVD"
      }
    }
  ]
}